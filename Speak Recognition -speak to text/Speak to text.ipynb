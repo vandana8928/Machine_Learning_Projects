{
 "cells": [
  {
   "cell_type": "code",
   "execution_count": 1,
   "metadata": {},
   "outputs": [],
   "source": [
    "# import the module\n",
    "import speech_recognition as sr\n",
    "# initialize\n",
    "r = sr.Recognizer()"
   ]
  },
  {
   "cell_type": "code",
   "execution_count": 2,
   "metadata": {},
   "outputs": [
    {
     "name": "stdout",
     "output_type": "stream",
     "text": [
      "listening to audio\n",
      "Audio: welcome to speech recognition\n"
     ]
    }
   ],
   "source": [
    "with sr.AudioFile('Speech Recognition_test.wav') as source:\n",
    "    print(\"listening to audio\")\n",
    "    # capture the audio\n",
    "    audio = r.listen(source)\n",
    "\n",
    "    try:\n",
    "        text = r.recognize_google(audio)\n",
    "        print(\"Audio:\", text)\n",
    "    except:\n",
    "        print('Error')"
   ]
  },
  {
   "cell_type": "code",
   "execution_count": 4,
   "metadata": {},
   "outputs": [
    {
     "name": "stdout",
     "output_type": "stream",
     "text": [
      "Speak now\n",
      "Speaker: hello this is Vandana Yadav\n",
      "Speak now\n",
      "Speaker: currently I am doing B tech in data science\n",
      "Speak now\n",
      "Please say again!!!\n",
      "Speak now\n",
      "Speaker: cancel\n"
     ]
    }
   ],
   "source": [
    "while True:\n",
    "    with sr.Microphone() as source:\n",
    "        # clear background noise\n",
    "        r.adjust_for_ambient_noise(source, duration=0.3)\n",
    "        \n",
    "        print(\"Speak now\")\n",
    "        # capture the audio\n",
    "        audio = r.listen(source)\n",
    "        \n",
    "        try:\n",
    "            text = r.recognize_google(audio)\n",
    "            print(\"Speaker:\", text)\n",
    "            if text == 'cancel':\n",
    "                break\n",
    "        except:\n",
    "            print('Please say again!!!')"
   ]
  },
  {
   "cell_type": "code",
   "execution_count": null,
   "metadata": {},
   "outputs": [],
   "source": []
  }
 ],
 "metadata": {
  "kernelspec": {
   "display_name": "Python 3",
   "language": "python",
   "name": "python3"
  },
  "language_info": {
   "codemirror_mode": {
    "name": "ipython",
    "version": 3
   },
   "file_extension": ".py",
   "mimetype": "text/x-python",
   "name": "python",
   "nbconvert_exporter": "python",
   "pygments_lexer": "ipython3",
   "version": "3.8.5"
  }
 },
 "nbformat": 4,
 "nbformat_minor": 4
}
